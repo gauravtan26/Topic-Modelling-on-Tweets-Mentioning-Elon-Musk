{
 "cells": [
  {
   "cell_type": "code",
   "execution_count": 202,
   "metadata": {},
   "outputs": [
    {
     "name": "stderr",
     "output_type": "stream",
     "text": [
      "C:\\Users\\gtanwar2\\Anaconda3\\lib\\site-packages\\ipykernel\\ipkernel.py:287: DeprecationWarning: `should_run_async` will not call `transform_cell` automatically in the future. Please pass the result to `transformed_cell` argument and any exception that happen during thetransform in `preprocessing_exc_tuple` in IPython 7.17 and above.\n",
      "  and should_run_async(code)\n"
     ]
    }
   ],
   "source": [
    "import pandas as pd\n",
    "import unicodedata\n",
    "import re\n",
    "import contractions\n",
    "import nltk\n",
    "import string\n",
    "import spacy\n",
    "\n",
    "#Gensim\n",
    "import gensim\n",
    "import gensim.corpora as corpora\n",
    "from gensim.utils import simple_preprocess\n",
    "from gensim.models import CoherenceModel\n",
    "\n",
    "#spacy\n",
    "import spacy\n",
    "from nltk.corpus import stopwords\n",
    "\n",
    "#vis\n",
    "import pyLDAvis\n",
    "import pyLDAvis.gensim_models\n"
   ]
  },
  {
   "cell_type": "code",
   "execution_count": 30,
   "metadata": {},
   "outputs": [],
   "source": [
    "def load_data(file):\n",
    "    return pd.read_csv(file)"
   ]
  },
  {
   "cell_type": "code",
   "execution_count": 31,
   "metadata": {},
   "outputs": [],
   "source": [
    "tweets_df=load_data(r'C:\\Users\\gtanwar2\\Elon Musk Tweet Analysis\\Elon_Musk_Tweets.csv')"
   ]
  },
  {
   "cell_type": "code",
   "execution_count": 32,
   "metadata": {},
   "outputs": [
    {
     "data": {
      "text/html": [
       "<div>\n",
       "<style scoped>\n",
       "    .dataframe tbody tr th:only-of-type {\n",
       "        vertical-align: middle;\n",
       "    }\n",
       "\n",
       "    .dataframe tbody tr th {\n",
       "        vertical-align: top;\n",
       "    }\n",
       "\n",
       "    .dataframe thead th {\n",
       "        text-align: right;\n",
       "    }\n",
       "</style>\n",
       "<table border=\"1\" class=\"dataframe\">\n",
       "  <thead>\n",
       "    <tr style=\"text-align: right;\">\n",
       "      <th></th>\n",
       "      <th>Unnamed: 0</th>\n",
       "      <th>Tweets</th>\n",
       "    </tr>\n",
       "  </thead>\n",
       "  <tbody>\n",
       "    <tr>\n",
       "      <th>0</th>\n",
       "      <td>0</td>\n",
       "      <td>A collaboration of PC x Elon Musk would be rid...</td>\n",
       "    </tr>\n",
       "    <tr>\n",
       "      <th>1</th>\n",
       "      <td>1</td>\n",
       "      <td>Thanks to Elon Musk and Jeff Bezos, for showin...</td>\n",
       "    </tr>\n",
       "    <tr>\n",
       "      <th>2</th>\n",
       "      <td>2</td>\n",
       "      <td>@elonmusk Yes Elon Musk we know.  You are at t...</td>\n",
       "    </tr>\n",
       "    <tr>\n",
       "      <th>3</th>\n",
       "      <td>3</td>\n",
       "      <td>@Popehat one of the places with the most in-de...</td>\n",
       "    </tr>\n",
       "    <tr>\n",
       "      <th>4</th>\n",
       "      <td>4</td>\n",
       "      <td>@suchetadalal @narendramodi @elonmusk Elon Mus...</td>\n",
       "    </tr>\n",
       "  </tbody>\n",
       "</table>\n",
       "</div>"
      ],
      "text/plain": [
       "   Unnamed: 0                                             Tweets\n",
       "0           0  A collaboration of PC x Elon Musk would be rid...\n",
       "1           1  Thanks to Elon Musk and Jeff Bezos, for showin...\n",
       "2           2  @elonmusk Yes Elon Musk we know.  You are at t...\n",
       "3           3  @Popehat one of the places with the most in-de...\n",
       "4           4  @suchetadalal @narendramodi @elonmusk Elon Mus..."
      ]
     },
     "execution_count": 32,
     "metadata": {},
     "output_type": "execute_result"
    }
   ],
   "source": [
    "tweets_df.head()"
   ]
  },
  {
   "cell_type": "code",
   "execution_count": 33,
   "metadata": {},
   "outputs": [],
   "source": [
    "tweets_df=tweets_df[['Tweets']]"
   ]
  },
  {
   "cell_type": "code",
   "execution_count": 34,
   "metadata": {},
   "outputs": [
    {
     "name": "stdout",
     "output_type": "stream",
     "text": [
      "<class 'pandas.core.frame.DataFrame'>\n",
      "RangeIndex: 35593 entries, 0 to 35592\n",
      "Data columns (total 1 columns):\n",
      " #   Column  Non-Null Count  Dtype \n",
      "---  ------  --------------  ----- \n",
      " 0   Tweets  35593 non-null  object\n",
      "dtypes: object(1)\n",
      "memory usage: 278.2+ KB\n"
     ]
    }
   ],
   "source": [
    "tweets_df.info()"
   ]
  },
  {
   "cell_type": "code",
   "execution_count": 35,
   "metadata": {},
   "outputs": [],
   "source": [
    "def get_number_of_links(documents):\n",
    "    print(\"{:.2f}% of documents contain links\".format(sum(documents.apply(lambda x:x.find('http'))>0)/len(documents)*100))\n",
    "def get_number_of_links(documents):\n",
    "    print(\"{:.2f}% of documents contain links\".format(sum(documents.apply(lambda x:x.find('http'))>0)/len(documents)*100))"
   ]
  },
  {
   "cell_type": "code",
   "execution_count": 36,
   "metadata": {},
   "outputs": [
    {
     "name": "stdout",
     "output_type": "stream",
     "text": [
      "57.38% of documents contain links\n"
     ]
    }
   ],
   "source": [
    "get_number_of_links(tweets_df.Tweets)"
   ]
  },
  {
   "cell_type": "code",
   "execution_count": 37,
   "metadata": {},
   "outputs": [],
   "source": [
    "def to_lowercase(text):\n",
    "    return text.lower()"
   ]
  },
  {
   "cell_type": "code",
   "execution_count": 38,
   "metadata": {},
   "outputs": [],
   "source": [
    "tweets_df.Tweets=tweets_df.Tweets.apply(to_lowercase)"
   ]
  },
  {
   "cell_type": "code",
   "execution_count": 39,
   "metadata": {},
   "outputs": [],
   "source": [
    "def remove_accented_chars(text):\n",
    "    return unicodedata.normalize('NFKD', text).encode('ascii', 'ignore').decode('utf-8', 'ignore')"
   ]
  },
  {
   "cell_type": "code",
   "execution_count": 40,
   "metadata": {},
   "outputs": [],
   "source": [
    "tweets_df.Tweets=tweets_df.Tweets.apply(remove_accented_chars)"
   ]
  },
  {
   "cell_type": "code",
   "execution_count": 41,
   "metadata": {},
   "outputs": [],
   "source": [
    "def remove_link(text):\n",
    "    return re.sub(r'https?:\\/\\/\\S*', '', text, flags=re.MULTILINE)"
   ]
  },
  {
   "cell_type": "code",
   "execution_count": 42,
   "metadata": {},
   "outputs": [],
   "source": [
    "tweets_df.Tweets=tweets_df.Tweets.apply(remove_link)"
   ]
  },
  {
   "cell_type": "code",
   "execution_count": 43,
   "metadata": {},
   "outputs": [],
   "source": [
    "def expand_contractions(text):\n",
    "    expanded_words = []    \n",
    "    for word in text.split():\n",
    "        expanded_words.append(contractions.fix(word))   \n",
    "    return ' '.join(expanded_words)"
   ]
  },
  {
   "cell_type": "code",
   "execution_count": 44,
   "metadata": {},
   "outputs": [],
   "source": [
    "tweets_df.Tweets=tweets_df.Tweets.apply(expand_contractions)"
   ]
  },
  {
   "cell_type": "code",
   "execution_count": 47,
   "metadata": {},
   "outputs": [],
   "source": [
    "def remove_mentions_and_tags(text):\n",
    "    text = re.sub(r'@\\S*', '', text)\n",
    "    return re.sub(r'#\\S*', '', text)"
   ]
  },
  {
   "cell_type": "code",
   "execution_count": 77,
   "metadata": {},
   "outputs": [],
   "source": [
    "def keep_only_alphabet(text):\n",
    "    return re.sub(r'[^a-z]', ' ', text)"
   ]
  },
  {
   "cell_type": "code",
   "execution_count": 79,
   "metadata": {},
   "outputs": [],
   "source": [
    "tweets_df.Tweets=tweets_df.Tweets.apply(remove_tags)"
   ]
  },
  {
   "cell_type": "code",
   "execution_count": 81,
   "metadata": {},
   "outputs": [],
   "source": [
    "tweets_df.Tweets=tweets_df.Tweets.apply(keep_only_alphabet)"
   ]
  },
  {
   "cell_type": "code",
   "execution_count": 97,
   "metadata": {},
   "outputs": [],
   "source": [
    "def remove_stopwords(text,nlp,custom_stop_words=None,remove_small_tokens=True,min_len=2):\n",
    "    if custom_stop_words:\n",
    "        nlp.Defaults.stop_words |= custom_stop_words\n",
    "    filtered_sentence =[] \n",
    "    doc=nlp(text)\n",
    "    for token in doc:\n",
    "        lexeme = nlp.vocab[token.text]    \n",
    "        if lexeme.is_stop == False: \n",
    "            if remove_small_tokens:\n",
    "                if len(token.text)>min_len:\n",
    "                    filtered_sentence.append(token.text)\n",
    "            else:\n",
    "                filtered_sentence.append(token.text)\n",
    "            \n",
    "    return \" \".join(filtered_sentence) if len(filtered_sentence)>0 else None"
   ]
  },
  {
   "cell_type": "code",
   "execution_count": 113,
   "metadata": {},
   "outputs": [],
   "source": [
    "nlp = spacy.load(\"en_core_web_sm\", disable=[\"parser\", \"ner\"])\n",
    "tweets_df.Tweets=tweets_df.Tweets.apply(lambda x:remove_stopwords(x,nlp,{\"elon\",\"musk\",}))"
   ]
  },
  {
   "cell_type": "code",
   "execution_count": 120,
   "metadata": {},
   "outputs": [],
   "source": [
    "tweets_df.dropna(inplace=True)"
   ]
  },
  {
   "cell_type": "code",
   "execution_count": 142,
   "metadata": {},
   "outputs": [],
   "source": [
    "def lemmatize(text, nlp):\n",
    "    doc = nlp(text)\n",
    "    lemmatized_text = []\n",
    "    for token in doc:\n",
    "        lemmatized_text.append(token.lemma_)\n",
    "    return \" \".join(lemmatized_text)"
   ]
  },
  {
   "cell_type": "code",
   "execution_count": 144,
   "metadata": {},
   "outputs": [],
   "source": [
    "tweets_df.Tweets=tweets_df.Tweets.apply(lambda x:lemmatize(x,nlp))"
   ]
  },
  {
   "cell_type": "code",
   "execution_count": 148,
   "metadata": {},
   "outputs": [],
   "source": [
    "tweets_df.to_csv('processed_tweets.csv')"
   ]
  },
  {
   "cell_type": "code",
   "execution_count": 193,
   "metadata": {},
   "outputs": [],
   "source": [
    "def generate_words(tweet):\n",
    "    words=[]\n",
    "    for word in tweet.split(' '):\n",
    "        if word!='':\n",
    "            words.append(word)\n",
    "    return words"
   ]
  },
  {
   "cell_type": "code",
   "execution_count": 196,
   "metadata": {},
   "outputs": [],
   "source": [
    "tweets_df['words']=tweets_df.Tweets.apply(generate_words)"
   ]
  },
  {
   "cell_type": "code",
   "execution_count": 197,
   "metadata": {},
   "outputs": [
    {
     "data": {
      "text/html": [
       "<div>\n",
       "<style scoped>\n",
       "    .dataframe tbody tr th:only-of-type {\n",
       "        vertical-align: middle;\n",
       "    }\n",
       "\n",
       "    .dataframe tbody tr th {\n",
       "        vertical-align: top;\n",
       "    }\n",
       "\n",
       "    .dataframe thead th {\n",
       "        text-align: right;\n",
       "    }\n",
       "</style>\n",
       "<table border=\"1\" class=\"dataframe\">\n",
       "  <thead>\n",
       "    <tr style=\"text-align: right;\">\n",
       "      <th></th>\n",
       "      <th>Tweets</th>\n",
       "      <th>words</th>\n",
       "    </tr>\n",
       "  </thead>\n",
       "  <tbody>\n",
       "    <tr>\n",
       "      <th>0</th>\n",
       "      <td>collaboration ridiculous break internet materi...</td>\n",
       "      <td>[collaboration, ridiculous, break, internet, m...</td>\n",
       "    </tr>\n",
       "    <tr>\n",
       "      <th>1</th>\n",
       "      <td>thank jeff bezo show people billionaire act ha...</td>\n",
       "      <td>[thank, jeff, bezo, show, people, billionaire,...</td>\n",
       "    </tr>\n",
       "    <tr>\n",
       "      <th>2</th>\n",
       "      <td>yes know</td>\n",
       "      <td>[yes, know]</td>\n",
       "    </tr>\n",
       "    <tr>\n",
       "      <th>3</th>\n",
       "      <td>place indepth conversation jack dorsey bernie ...</td>\n",
       "      <td>[place, indepth, conversation, jack, dorsey, b...</td>\n",
       "    </tr>\n",
       "    <tr>\n",
       "      <th>4</th>\n",
       "      <td>move red carpet welcome inherit like tata...</td>\n",
       "      <td>[move, red, carpet, welcome, inherit, like, ta...</td>\n",
       "    </tr>\n",
       "  </tbody>\n",
       "</table>\n",
       "</div>"
      ],
      "text/plain": [
       "                                              Tweets  \\\n",
       "0  collaboration ridiculous break internet materi...   \n",
       "1  thank jeff bezo show people billionaire act ha...   \n",
       "2                                           yes know   \n",
       "3  place indepth conversation jack dorsey bernie ...   \n",
       "4       move red carpet welcome inherit like tata...   \n",
       "\n",
       "                                               words  \n",
       "0  [collaboration, ridiculous, break, internet, m...  \n",
       "1  [thank, jeff, bezo, show, people, billionaire,...  \n",
       "2                                        [yes, know]  \n",
       "3  [place, indepth, conversation, jack, dorsey, b...  \n",
       "4  [move, red, carpet, welcome, inherit, like, ta...  "
      ]
     },
     "execution_count": 197,
     "metadata": {},
     "output_type": "execute_result"
    }
   ],
   "source": [
    "tweets_df.head()"
   ]
  },
  {
   "cell_type": "code",
   "execution_count": 221,
   "metadata": {},
   "outputs": [],
   "source": [
    "def create_dictionary(tweets_df):\n",
    "    return corpora.Dictionary(tweets_df.words)\n",
    "id2word=create_dictionary(tweets_df) "
   ]
  },
  {
   "cell_type": "code",
   "execution_count": 260,
   "metadata": {},
   "outputs": [
    {
     "name": "stdout",
     "output_type": "stream",
     "text": [
      "Dictionary(19692 unique tokens: ['break', 'collaboration', 'influential', 'internet', 'material']...)\n"
     ]
    }
   ],
   "source": [
    "print(id2word)"
   ]
  },
  {
   "cell_type": "code",
   "execution_count": 222,
   "metadata": {},
   "outputs": [],
   "source": [
    "def create_document_matrix(tokens):\n",
    "    corpus = []\n",
    "    for text in tokens:\n",
    "        new = id2word.doc2bow(text)\n",
    "        corpus.append(new)\n",
    "    return corpus"
   ]
  },
  {
   "cell_type": "code",
   "execution_count": 237,
   "metadata": {},
   "outputs": [],
   "source": [
    "id2word = corpora.Dictionary(tweets_df.words)\n",
    "\n",
    "corpus = []\n",
    "for text in tweets_df.words:\n",
    "    new = id2word.doc2bow(text)\n",
    "    corpus.append(new)"
   ]
  },
  {
   "cell_type": "code",
   "execution_count": 256,
   "metadata": {},
   "outputs": [
    {
     "data": {
      "text/plain": [
       "{'know', 'yes'}"
      ]
     },
     "execution_count": 256,
     "metadata": {},
     "output_type": "execute_result"
    }
   ],
   "source": [
    "(set(tweets_df.words[2]))"
   ]
  },
  {
   "cell_type": "code",
   "execution_count": 248,
   "metadata": {},
   "outputs": [
    {
     "name": "stdout",
     "output_type": "stream",
     "text": [
      "[(0, 1), (1, 1), (2, 1), (3, 1), (4, 1), (5, 2), (6, 1), (7, 1), (8, 1), (9, 1), (10, 1)]\n"
     ]
    }
   ],
   "source": [
    "print((corpus[0]))\n"
   ]
  },
  {
   "cell_type": "code",
   "execution_count": 262,
   "metadata": {},
   "outputs": [
    {
     "data": {
      "text/plain": [
       "['collaboration',\n",
       " 'ridiculous',\n",
       " 'break',\n",
       " 'internet',\n",
       " 'material',\n",
       " 'influential',\n",
       " 'people',\n",
       " 'visionarie',\n",
       " 'unique',\n",
       " 'personality',\n",
       " 'people',\n",
       " 'special']"
      ]
     },
     "execution_count": 262,
     "metadata": {},
     "output_type": "execute_result"
    }
   ],
   "source": [
    "tweets_df.words[0]"
   ]
  },
  {
   "cell_type": "code",
   "execution_count": 211,
   "metadata": {},
   "outputs": [],
   "source": [
    "lda_model = gensim.models.ldamodel.LdaModel(corpus=corpus,\n",
    "                                           id2word=id2word,\n",
    "                                           num_topics=10,\n",
    "                                           random_state=100,\n",
    "                                           update_every=1,\n",
    "                                           chunksize=100,\n",
    "                                           passes=10,\n",
    "                                           alpha=\"auto\")"
   ]
  },
  {
   "cell_type": "code",
   "execution_count": 223,
   "metadata": {},
   "outputs": [],
   "source": [
    "def get_lda_topics(model, num_topics):\n",
    "    word_dict = {};\n",
    "    for i in range(num_topics):\n",
    "        words = model.show_topic(i, topn = 10);\n",
    "        word_dict['Topic # ' + '{:02d}'.format(i+1)] = [i[0] for i in words];\n",
    "    return pd.DataFrame(word_dict)"
   ]
  },
  {
   "cell_type": "code",
   "execution_count": 224,
   "metadata": {},
   "outputs": [
    {
     "data": {
      "text/html": [
       "<div>\n",
       "<style scoped>\n",
       "    .dataframe tbody tr th:only-of-type {\n",
       "        vertical-align: middle;\n",
       "    }\n",
       "\n",
       "    .dataframe tbody tr th {\n",
       "        vertical-align: top;\n",
       "    }\n",
       "\n",
       "    .dataframe thead th {\n",
       "        text-align: right;\n",
       "    }\n",
       "</style>\n",
       "<table border=\"1\" class=\"dataframe\">\n",
       "  <thead>\n",
       "    <tr style=\"text-align: right;\">\n",
       "      <th></th>\n",
       "      <th>Topic # 01</th>\n",
       "      <th>Topic # 02</th>\n",
       "      <th>Topic # 03</th>\n",
       "      <th>Topic # 04</th>\n",
       "      <th>Topic # 05</th>\n",
       "      <th>Topic # 06</th>\n",
       "      <th>Topic # 07</th>\n",
       "      <th>Topic # 08</th>\n",
       "      <th>Topic # 09</th>\n",
       "      <th>Topic # 10</th>\n",
       "    </tr>\n",
       "  </thead>\n",
       "  <tbody>\n",
       "    <tr>\n",
       "      <th>0</th>\n",
       "      <td>moon</td>\n",
       "      <td>good</td>\n",
       "      <td>support</td>\n",
       "      <td>amp</td>\n",
       "      <td>land</td>\n",
       "      <td>start</td>\n",
       "      <td>news</td>\n",
       "      <td>like</td>\n",
       "      <td>forever</td>\n",
       "      <td>floki</td>\n",
       "    </tr>\n",
       "    <tr>\n",
       "      <th>1</th>\n",
       "      <td>fly</td>\n",
       "      <td>doge</td>\n",
       "      <td>potential</td>\n",
       "      <td>crypto</td>\n",
       "      <td>think</td>\n",
       "      <td>steal</td>\n",
       "      <td>money</td>\n",
       "      <td>world</td>\n",
       "      <td>people</td>\n",
       "      <td>tesla</td>\n",
       "    </tr>\n",
       "    <tr>\n",
       "      <th>2</th>\n",
       "      <td>song</td>\n",
       "      <td>get</td>\n",
       "      <td>tweet</td>\n",
       "      <td>amazing</td>\n",
       "      <td>marketcap</td>\n",
       "      <td>plan</td>\n",
       "      <td>tunnel</td>\n",
       "      <td>need</td>\n",
       "      <td>bitcoin</td>\n",
       "      <td>send</td>\n",
       "    </tr>\n",
       "    <tr>\n",
       "      <th>3</th>\n",
       "      <td>broadcast</td>\n",
       "      <td>coin</td>\n",
       "      <td>musk</td>\n",
       "      <td>new</td>\n",
       "      <td>wish</td>\n",
       "      <td>change</td>\n",
       "      <td>worry</td>\n",
       "      <td>help</td>\n",
       "      <td>big</td>\n",
       "      <td>famous</td>\n",
       "    </tr>\n",
       "    <tr>\n",
       "      <th>4</th>\n",
       "      <td>stealh</td>\n",
       "      <td>ceo</td>\n",
       "      <td>company</td>\n",
       "      <td>goat</td>\n",
       "      <td>dream</td>\n",
       "      <td>genius</td>\n",
       "      <td>michael</td>\n",
       "      <td>high</td>\n",
       "      <td>year</td>\n",
       "      <td>say</td>\n",
       "    </tr>\n",
       "    <tr>\n",
       "      <th>5</th>\n",
       "      <td>baby</td>\n",
       "      <td>instead</td>\n",
       "      <td>twitter</td>\n",
       "      <td>important</td>\n",
       "      <td>look</td>\n",
       "      <td>loop</td>\n",
       "      <td>canadian</td>\n",
       "      <td>want</td>\n",
       "      <td>laser</td>\n",
       "      <td>starlink</td>\n",
       "    </tr>\n",
       "    <tr>\n",
       "      <th>6</th>\n",
       "      <td>dance</td>\n",
       "      <td>wallet</td>\n",
       "      <td>car</td>\n",
       "      <td>give</td>\n",
       "      <td>space</td>\n",
       "      <td>call</td>\n",
       "      <td>month</td>\n",
       "      <td>low</td>\n",
       "      <td>go</td>\n",
       "      <td>launch</td>\n",
       "    </tr>\n",
       "    <tr>\n",
       "      <th>7</th>\n",
       "      <td>tribute</td>\n",
       "      <td>investor</td>\n",
       "      <td>traffic</td>\n",
       "      <td>monument</td>\n",
       "      <td>nft</td>\n",
       "      <td>chip</td>\n",
       "      <td>business</td>\n",
       "      <td>pay</td>\n",
       "      <td>video</td>\n",
       "      <td>price</td>\n",
       "    </tr>\n",
       "    <tr>\n",
       "      <th>8</th>\n",
       "      <td>read</td>\n",
       "      <td>gamestop</td>\n",
       "      <td>drive</td>\n",
       "      <td>project</td>\n",
       "      <td>mars</td>\n",
       "      <td>elite</td>\n",
       "      <td>bet</td>\n",
       "      <td>man</td>\n",
       "      <td>know</td>\n",
       "      <td>satellite</td>\n",
       "    </tr>\n",
       "    <tr>\n",
       "      <th>9</th>\n",
       "      <td>message</td>\n",
       "      <td>human</td>\n",
       "      <td>way</td>\n",
       "      <td>egt</td>\n",
       "      <td>true</td>\n",
       "      <td>china</td>\n",
       "      <td>retweet</td>\n",
       "      <td>rich</td>\n",
       "      <td>thing</td>\n",
       "      <td>let</td>\n",
       "    </tr>\n",
       "  </tbody>\n",
       "</table>\n",
       "</div>"
      ],
      "text/plain": [
       "  Topic # 01 Topic # 02 Topic # 03 Topic # 04 Topic # 05 Topic # 06  \\\n",
       "0       moon       good    support        amp       land      start   \n",
       "1        fly       doge  potential     crypto      think      steal   \n",
       "2       song        get      tweet    amazing  marketcap       plan   \n",
       "3  broadcast       coin       musk        new       wish     change   \n",
       "4     stealh        ceo    company       goat      dream     genius   \n",
       "5       baby    instead    twitter  important       look       loop   \n",
       "6      dance     wallet        car       give      space       call   \n",
       "7    tribute   investor    traffic   monument        nft       chip   \n",
       "8       read   gamestop      drive    project       mars      elite   \n",
       "9    message      human        way        egt       true      china   \n",
       "\n",
       "  Topic # 07 Topic # 08 Topic # 09 Topic # 10  \n",
       "0       news       like    forever      floki  \n",
       "1      money      world     people      tesla  \n",
       "2     tunnel       need    bitcoin       send  \n",
       "3      worry       help        big     famous  \n",
       "4    michael       high       year        say  \n",
       "5   canadian       want      laser   starlink  \n",
       "6      month        low         go     launch  \n",
       "7   business        pay      video      price  \n",
       "8        bet        man       know  satellite  \n",
       "9    retweet       rich      thing        let  "
      ]
     },
     "execution_count": 224,
     "metadata": {},
     "output_type": "execute_result"
    }
   ],
   "source": [
    "get_lda_topics(lda_model,10)"
   ]
  },
  {
   "cell_type": "code",
   "execution_count": 216,
   "metadata": {},
   "outputs": [
    {
     "name": "stderr",
     "output_type": "stream",
     "text": [
      "C:\\Users\\gtanwar2\\AppData\\Roaming\\Python\\Python38\\site-packages\\pyLDAvis\\_prepare.py:246: FutureWarning: In a future version of pandas all arguments of DataFrame.drop except for the argument 'labels' will be keyword-only\n",
      "  default_term_info = default_term_info.sort_values(\n"
     ]
    },
    {
     "data": {
      "text/html": [
       "\n",
       "<link rel=\"stylesheet\" type=\"text/css\" href=\"https://cdn.jsdelivr.net/gh/bmabey/pyLDAvis@3.3.1/pyLDAvis/js/ldavis.v1.0.0.css\">\n",
       "\n",
       "\n",
       "<div id=\"ldavis_el2089227550507594404472225837\"></div>\n",
       "<script type=\"text/javascript\">\n",
       "\n",
       "var ldavis_el2089227550507594404472225837_data = {\"mdsDat\": {\"x\": [-0.20974763301727561, 0.17045766013484992, 0.21038561004275522, -0.24088448117150182, -0.3755024398724605, 0.13959022576081245, 0.4488928759913357, -0.39839252713591855, 0.2951100424296986, -0.039909333162295585], \"y\": [0.40643610967439614, -0.44668863210120613, 0.4449664651749891, -0.3893758591115355, 0.16238758062769387, 0.22450743629944966, -0.1420855765013572, -0.11279629532045905, 0.005515793578853028, -0.15286702232082372], \"topics\": [1, 2, 3, 4, 5, 6, 7, 8, 9, 10], \"cluster\": [1, 1, 1, 1, 1, 1, 1, 1, 1, 1], \"Freq\": [18.502540898766963, 18.42714901522193, 12.564512788066764, 9.834339372121358, 9.330222720288441, 8.042886926485252, 7.612717934486929, 6.5901202824158425, 5.188432282685672, 3.9070777794608524]}, \"tinfo\": {\"Term\": [\"moon\", \"good\", \"land\", \"news\", \"fly\", \"floki\", \"tesla\", \"like\", \"forever\", \"send\", \"world\", \"think\", \"doge\", \"support\", \"famous\", \"people\", \"amp\", \"crypto\", \"amazing\", \"bitcoin\", \"song\", \"marketcap\", \"say\", \"starlink\", \"big\", \"need\", \"help\", \"get\", \"potential\", \"broadcast\", \"forever\", \"people\", \"bitcoin\", \"big\", \"year\", \"laser\", \"go\", \"video\", \"know\", \"thing\", \"software\", \"wrong\", \"great\", \"jeff\", \"bezos\", \"love\", \"crash\", \"currency\", \"rave\", \"believe\", \"comment\", \"guy\", \"bill\", \"idea\", \"create\", \"life\", \"bro\", \"prove\", \"lol\", \"bad\", \"floki\", \"tesla\", \"send\", \"famous\", \"say\", \"starlink\", \"launch\", \"price\", \"satellite\", \"let\", \"orbit\", \"time\", \"work\", \"day\", \"raise\", \"come\", \"build\", \"make\", \"sell\", \"buy\", \"internet\", \"share\", \"old\", \"service\", \"market\", \"selfdriving\", \"mar\", \"rural\", \"satellitebase\", \"spacex\", \"mooooooooooon\", \"lasereyes\", \"like\", \"world\", \"need\", \"help\", \"high\", \"want\", \"low\", \"pay\", \"man\", \"rich\", \"binance\", \"trust\", \"warn\", \"exchange\", \"talk\", \"metamask\", \"address\", \"coinbase\", \"deserve\", \"phrase\", \"taxis\", \"recovery\", \"huobi\", \"hack\", \"airdrop\", \"pratik\", \"vaccine\", \"million\", \"person\", \"winner\", \"news\", \"money\", \"tunnel\", \"worry\", \"michael\", \"canadian\", \"month\", \"business\", \"bet\", \"retweet\", \"check\", \"burry\", \"watch\", \"billionaire\", \"live\", \"stop\", \"tax\", \"probably\", \"highlight\", \"jack\", \"tsla\", \"slam\", \"statue\", \"giant\", \"etc\", \"neuralink\", \"average\", \"listen\", \"state\", \"smart\", \"support\", \"potential\", \"tweet\", \"musk\", \"company\", \"twitter\", \"car\", \"traffic\", \"drive\", \"way\", \"self\", \"crazy\", \"token\", \"short\", \"fsd\", \"shiba\", \"well\", \"vegas\", \"jam\", \"proud\", \"die\", \"capitalist\", \"possible\", \"game\", \"agree\", \"reality\", \"electric\", \"las\", \"consider\", \"write\", \"good\", \"doge\", \"get\", \"coin\", \"ceo\", \"instead\", \"wallet\", \"investor\", \"gamestop\", \"human\", \"mention\", \"trend\", \"rise\", \"saga\", \"hour\", \"dogecoin\", \"soon\", \"problem\", \"gain\", \"btc\", \"child\", \"wealth\", \"real\", \"technology\", \"link\", \"fan\", \"kind\", \"value\", \"begin\", \"model\", \"land\", \"think\", \"marketcap\", \"wish\", \"dream\", \"look\", \"space\", \"nft\", \"mars\", \"true\", \"find\", \"happen\", \"dear\", \"expect\", \"ass\", \"guess\", \"mean\", \"earn\", \"hate\", \"week\", \"long\", \"move\", \"wait\", \"home\", \"hope\", \"win\", \"post\", \"uncle\", \"far\", \"lose\", \"amp\", \"crypto\", \"amazing\", \"new\", \"goat\", \"important\", \"give\", \"monument\", \"project\", \"egt\", \"run\", \"kevin\", \"stone\", \"wang\", \"dedicate\", \"danny\", \"partnering\", \"sculptor\", \"thank\", \"brain\", \"bsc\", \"pancakeswap\", \"metal\", \"renowned\", \"word\", \"worth\", \"arizona\", \"play\", \"poor\", \"name\", \"metaverse\", \"moon\", \"fly\", \"song\", \"baby\", \"dance\", \"broadcast\", \"tribute\", \"read\", \"message\", \"ask\", \"join\", \"open\", \"sure\", \"reach\", \"question\", \"hey\", \"lil\", \"test\", \"babydoge\", \"industry\", \"solution\", \"qua\", \"juice\", \"pop\", \"degree\", \"construct\", \"invite\", \"david\", \"review\", \"beast\", \"stealh\", \"start\", \"steal\", \"plan\", \"change\", \"genius\", \"loop\", \"call\", \"chip\", \"elite\", \"china\", \"expose\", \"stand\", \"server\", \"ill\", \"member\", \"star\", \"spread\", \"dey\", \"vehicle\", \"stuff\", \"nasa\", \"free\", \"knowledge\", \"level\", \"hell\", \"joke\", \"gates\", \"plane\", \"iron\", \"corporate\", \"metaverse\"], \"Freq\": [4810.0, 3632.0, 3068.0, 2928.0, 2268.0, 3865.0, 3403.0, 2736.0, 3107.0, 3045.0, 2346.0, 1734.0, 1685.0, 1752.0, 2390.0, 2355.0, 1384.0, 1346.0, 1316.0, 2027.0, 1109.0, 1253.0, 1897.0, 1856.0, 1843.0, 1490.0, 1470.0, 1170.0, 1234.0, 988.0, 3106.1965062245804, 2354.609088376278, 2027.011159172455, 1842.4480861357936, 1442.3358941232966, 1311.7795392434982, 1226.1386270209107, 1016.8056066775597, 1010.3990989810245, 780.8689781033156, 696.695784384959, 681.2507423357737, 671.0708895619844, 600.0868773251669, 595.1858453847682, 515.3112985678129, 501.90833963708934, 490.0052848336394, 489.81011554298726, 454.4132869098619, 442.9564763035392, 434.5854555447493, 430.5217366448176, 419.62287328029976, 413.84696037472287, 405.42590314313554, 402.87350209562373, 400.7070580572037, 386.72132297547097, 383.0762335490307, 3864.665745533276, 3402.7162325932413, 3045.0753279898436, 2389.342871608293, 1896.7182477534072, 1856.0145569977751, 1628.1131514600975, 1512.2119202966385, 1359.8514421188756, 1342.2932386907755, 1076.0835546092092, 955.6362982551294, 943.59232684271, 915.4231756805005, 754.9061529926935, 742.6749726598933, 713.5470963330522, 680.0979532661881, 622.4717613156911, 609.6091347222341, 572.7736381827681, 541.5022601223704, 533.0091705402057, 507.3354200087978, 464.4313375570417, 436.66992472976796, 420.4781039916295, 410.51150511858884, 389.69274183776844, 385.6882218164157, 797.8637314035685, 774.1806985774583, 2735.7482979593415, 2345.2266458695813, 1489.83026849946, 1469.897930955453, 1280.656801325331, 1194.9039344775986, 1181.3796371601147, 750.8864162543571, 711.7680136672715, 697.4883340053741, 548.9524094576681, 537.2275266278049, 498.14931020512245, 473.6588918602555, 457.5119881499619, 456.89046173158636, 446.54814458345004, 440.72761579519494, 426.65764619963954, 422.5731670602524, 405.1596277732197, 404.2492678898509, 404.2327746651552, 396.0721180985886, 380.4110849518797, 381.9905040659986, 376.60357444101214, 359.7135205551774, 356.5282711274826, 340.44991164276155, 2927.985635841085, 1059.8717429891885, 861.073050174166, 551.9487370405733, 545.8890950963516, 515.0747980109485, 491.8065319817064, 488.7902816634088, 442.6975272354479, 426.90076867193517, 418.86211138180033, 402.4733617970714, 395.8164960795276, 377.45767282968194, 374.4116648277049, 354.809487924994, 352.22798730226754, 348.152737212991, 344.9181488755037, 316.2308217642399, 309.62418471663614, 305.7221617231744, 277.17560139383755, 266.87024239750343, 243.00693770021428, 237.67001932570176, 237.33073860467886, 223.74464529761548, 222.27342254136764, 205.27961443085027, 1752.0661239729259, 1233.5440618413654, 1209.0898342979372, 1188.4174774193316, 755.0318585663081, 736.8848586173159, 712.3644011470664, 704.8355205449647, 665.8230385600797, 634.1827548462993, 605.2200368725366, 577.2982307634752, 573.3840093552683, 492.61394039555915, 480.9463985838156, 455.2480413195008, 429.30391319824264, 411.0202799282261, 407.0286175141522, 353.141243118066, 353.0570918313101, 337.882364430151, 306.340252671325, 298.7710285511968, 216.37779447186023, 205.4372270339677, 204.00942383192393, 200.51737729085497, 194.73423354485965, 188.3892947173797, 3631.720168771411, 1684.8524078132505, 1169.9875323317613, 944.51332394874, 879.107679907455, 752.0110312020514, 626.7522796645599, 514.8911640748429, 439.3836460014061, 429.55420456549575, 425.2395833028038, 420.02663518815166, 383.6242697446658, 382.8075598046299, 380.16729620468345, 327.03242920303535, 324.6856902102772, 297.66355574882647, 296.76188991631506, 294.3978446581647, 267.21132418943586, 259.54055719382904, 240.86121834878458, 238.29742210625037, 232.91510302744084, 229.53186922695556, 220.247410553266, 219.0356192666005, 210.2912524540426, 200.66953323073346, 3067.8586095651467, 1733.4789190482545, 1252.2358934859064, 933.4622988442733, 769.1366019656508, 767.443074205962, 735.8809888420017, 560.978733483535, 504.5518004715244, 443.5052570417029, 403.6852764214224, 388.25577228441784, 371.841871196209, 289.59918934374, 279.6718699202734, 277.4702081611962, 265.02407444519855, 262.0097677419811, 260.41908642840383, 258.70648500407145, 251.16800297521507, 209.09508203886944, 206.62970516618563, 205.24696463296334, 193.28644152239926, 190.00216568017868, 173.87791944436526, 173.54006853504396, 172.85090164392838, 164.16008761536415, 1384.080498872832, 1345.4993540360294, 1315.7050491371294, 1048.7341158347351, 665.4177027511381, 532.7921081056871, 531.7825725162386, 401.3190848948707, 397.2253003602317, 374.28176508524365, 370.21310430358454, 338.41213596882375, 317.96862604883484, 310.9852053211909, 308.2057938143808, 308.1522517058446, 302.86898077437047, 302.86898077437047, 302.59044235655574, 301.8647820557621, 301.47561435143615, 292.3133631199648, 288.5009684720371, 280.759442351561, 261.17106483361187, 246.64495014097702, 230.23619164279697, 223.15243003668735, 199.47552778821233, 197.44135153083667, 283.82569621601283, 4809.751254848178, 2267.2807642747875, 1108.7892403559147, 623.5006447607788, 547.8542807894868, 986.9582861448482, 539.7864484830648, 360.84664480048457, 337.3299584506227, 245.6630454946329, 232.02160844370147, 207.34405781369236, 202.47284194272558, 173.48442415954557, 154.00119890045642, 150.32027468064805, 94.15371541578385, 88.76953799559796, 81.29831529893173, 79.39290061033174, 70.54223956002052, 55.17936197992675, 46.71451044919485, 42.74030607226502, 40.61376896051272, 33.10924327773564, 32.71102193015122, 25.300722613508196, 23.033637571588127, 23.011785094081436, 787.3612871248081, 456.7238620835419, 377.27651809133107, 354.0126439071178, 350.90505224676366, 330.7706554582724, 328.77334223098507, 308.03596830335056, 303.30186442902396, 232.1023357185027, 197.15344353808342, 195.57504338954394, 194.6171426755832, 189.5984100152982, 182.8372712626263, 180.1485127226966, 172.99646914969122, 158.9245238616559, 150.45682319070158, 142.99072616873795, 137.63741361562418, 136.30071605601157, 127.85969861982724, 112.77617773761536, 112.17540516367349, 107.2788259762611, 106.674535236091, 104.61577974860337, 95.6765191542715, 93.25391331629321, 92.80114359890737, 102.66694411051289], \"Total\": [4810.0, 3632.0, 3068.0, 2928.0, 2268.0, 3865.0, 3403.0, 2736.0, 3107.0, 3045.0, 2346.0, 1734.0, 1685.0, 1752.0, 2390.0, 2355.0, 1384.0, 1346.0, 1316.0, 2027.0, 1109.0, 1253.0, 1897.0, 1856.0, 1843.0, 1490.0, 1470.0, 1170.0, 1234.0, 988.0, 3107.0472210020134, 2355.458341711778, 2027.8604641393417, 1843.2975094907654, 1443.1852498168566, 1312.6300928275355, 1226.9879252519388, 1017.6548326643032, 1011.2483622500946, 781.718241424707, 697.5452452748735, 682.1002344816862, 671.9201669377218, 600.9361013877873, 596.0350675791577, 516.1605781382418, 502.75775482526757, 490.8545082261251, 490.65960410907206, 455.2625378646409, 443.80567258531386, 435.4347386863705, 431.37101137048023, 420.47211177957684, 414.69627688713473, 406.2751607497902, 403.7231093546096, 401.55624495988985, 387.5706360933722, 383.9254924319071, 3865.5335558798647, 3403.5837898216737, 3045.94312882522, 2390.2156393882647, 1897.5858110910453, 1856.8821655602856, 1628.981180965307, 1513.0794782276982, 1360.7191494060141, 1343.1608944123752, 1076.9513340184765, 956.5039867357814, 944.4599340963798, 916.2908027585569, 755.7736758398065, 743.5425837866962, 714.4148279817732, 680.9655365460255, 623.3393988270543, 610.4767207962402, 573.6411878477179, 542.3698963515516, 533.8768871862158, 508.2029708264732, 465.29922762463104, 437.5374084737836, 421.3457672721587, 411.3790333256174, 390.56032474673714, 386.55575487441075, 869.3428977619169, 869.585863786822, 2736.6089592803364, 2346.0880303767076, 1490.6908521812727, 1470.7585401066794, 1281.5177505698182, 1195.7646380745005, 1182.2406376320146, 751.747059868923, 712.6286675264423, 698.3489745256147, 549.8129657845392, 538.0880983120697, 499.01034849532834, 474.5194548724516, 458.37266229677414, 457.7510071079622, 447.4086895408799, 441.5881610055613, 427.5183128430718, 423.43371487100114, 406.0202558173554, 405.10981063311704, 405.0933174265624, 396.9326622592547, 381.2716367399342, 382.85680484429827, 377.46412458099115, 360.5742314152909, 357.3889211078119, 341.310539187919, 2928.8373890722214, 1060.7232788390263, 861.9246196660761, 552.8003441537288, 546.7407188527202, 515.9264489746832, 492.65814402470255, 489.6417958804646, 443.5490668988306, 427.7523495452742, 419.7136275304103, 403.32734048286596, 396.66800621528193, 378.3091747723854, 375.2632163079041, 355.661097991656, 353.0795193207207, 349.0043926160475, 345.76971188443946, 317.0824237233011, 310.4757220001457, 306.5737011474934, 278.0273243134682, 267.72204068202655, 243.8585281203334, 238.52154603260072, 238.18244114298415, 224.5961909255814, 223.12501434299242, 206.13111484812814, 1752.9162150863792, 1234.394907555922, 1209.9398414816296, 1189.267526621344, 755.8819348746798, 737.7349189774474, 713.2144506055608, 705.6855157262421, 666.6730613618723, 635.0328147760241, 606.0700531393156, 578.1483610945204, 574.2345954172274, 493.46437983940086, 481.79653160255884, 456.09801271625406, 430.15399367071115, 411.8702832551666, 407.8785902339901, 353.9912268580011, 353.90726574183935, 338.7323431019352, 307.19028482719733, 299.6210678390443, 217.22781296163552, 206.28725878094411, 204.8594492139747, 201.36734059226126, 195.5843271735217, 189.23937016667097, 3632.5547109233976, 1685.686661933721, 1170.8217961343978, 945.3475719964504, 879.9420583134566, 752.8453141337744, 627.586555549295, 515.7254550907527, 440.2182660891315, 430.3884786677293, 426.0738841289378, 420.8609889386894, 384.45855609539996, 383.6418807672639, 381.0015489191184, 327.86663162182555, 325.52000679776035, 298.4978102975761, 297.59621736427397, 295.23204220655845, 268.04556663389076, 260.3748190419121, 241.6954969505254, 239.131742720499, 233.7493350072178, 230.36611282385684, 221.081750593712, 219.86996659298177, 211.125606303272, 201.50377244246656, 3068.705540265312, 1734.3247071200592, 1253.088924003802, 934.3080320458483, 769.9823362116362, 768.2888990558765, 736.726767076052, 561.8245007782276, 505.39755709457023, 444.35101178612905, 404.53109337468544, 389.101596670642, 372.6876049106623, 290.44490906430997, 280.5177122484177, 278.3160670570564, 265.8698471379526, 262.8556995328574, 261.26485474027436, 259.5523088101975, 252.01384487724624, 209.940977554886, 207.47547822250206, 206.09285914044744, 194.13222293831828, 190.84797602147972, 174.723685083853, 174.38589275769374, 173.69677394244397, 165.00589394398227, 1384.9301290399455, 1346.3490990892656, 1316.554747148033, 1049.5837606238779, 666.2673051023938, 533.6417214663395, 532.6322087832474, 402.16871629189524, 398.0749649572845, 375.1313623917657, 371.06270979726776, 339.26177802253113, 318.81832179497076, 311.834856878524, 309.0553790939208, 309.00188874408207, 303.7186123690259, 303.7186123690259, 303.4400974500396, 302.7144724509885, 302.3252239105733, 293.16297249949235, 289.35063059298665, 281.6090426192082, 262.02093494228853, 247.49465948952982, 231.08987076377196, 224.0021146407047, 200.32529767025395, 198.29097814189333, 402.8262526849403, 4810.625978167322, 2268.1557196113345, 1109.6638891679352, 624.3753000366484, 548.7289355462182, 988.5442038904539, 540.6610954200357, 361.72156350121884, 338.20480041523524, 246.5378922132121, 232.8965827889913, 208.2188395515704, 203.34767788007187, 174.35948537974693, 154.87606995466652, 151.19510682297084, 95.02862291109457, 89.64445202912074, 82.17318846371255, 80.2677726155432, 71.41729921152171, 56.054007971041806, 47.58928115132137, 43.61533925990992, 41.48887144576616, 33.98580545069295, 33.585961635057856, 26.178009748639205, 23.9084142900221, 23.886498710305982, 939.9052182064289, 457.5714366202592, 378.12410099189714, 354.86020436753665, 351.75264174683775, 331.6182556763758, 329.62098353318834, 308.8835385080494, 304.1494045853256, 232.94985531735063, 198.00103149155288, 196.42255937930477, 195.46466005692812, 190.4459048696753, 183.68487401311154, 180.99604166085317, 173.84415251053935, 159.77202937753538, 151.30453562350158, 143.83829065578354, 138.4850242855731, 137.1484036152683, 128.70727205353595, 113.62383731632127, 113.02301224787786, 108.12643858735304, 107.52211795934443, 105.463361077747, 96.52482696755374, 94.10147572367381, 93.64895386387307, 402.8262526849403], \"Category\": [\"Default\", \"Default\", \"Default\", \"Default\", \"Default\", \"Default\", \"Default\", \"Default\", \"Default\", \"Default\", \"Default\", \"Default\", \"Default\", \"Default\", \"Default\", \"Default\", \"Default\", \"Default\", \"Default\", \"Default\", \"Default\", \"Default\", \"Default\", \"Default\", \"Default\", \"Default\", \"Default\", \"Default\", \"Default\", \"Default\", \"Topic1\", \"Topic1\", \"Topic1\", \"Topic1\", \"Topic1\", \"Topic1\", \"Topic1\", \"Topic1\", \"Topic1\", \"Topic1\", \"Topic1\", \"Topic1\", \"Topic1\", \"Topic1\", \"Topic1\", \"Topic1\", \"Topic1\", \"Topic1\", \"Topic1\", \"Topic1\", \"Topic1\", \"Topic1\", \"Topic1\", \"Topic1\", \"Topic1\", \"Topic1\", \"Topic1\", \"Topic1\", \"Topic1\", \"Topic1\", \"Topic2\", \"Topic2\", \"Topic2\", \"Topic2\", \"Topic2\", \"Topic2\", \"Topic2\", \"Topic2\", \"Topic2\", \"Topic2\", \"Topic2\", \"Topic2\", \"Topic2\", \"Topic2\", \"Topic2\", \"Topic2\", \"Topic2\", \"Topic2\", \"Topic2\", \"Topic2\", \"Topic2\", \"Topic2\", \"Topic2\", \"Topic2\", \"Topic2\", \"Topic2\", \"Topic2\", \"Topic2\", \"Topic2\", \"Topic2\", \"Topic2\", \"Topic2\", \"Topic3\", \"Topic3\", \"Topic3\", \"Topic3\", \"Topic3\", \"Topic3\", \"Topic3\", \"Topic3\", \"Topic3\", \"Topic3\", \"Topic3\", \"Topic3\", \"Topic3\", \"Topic3\", \"Topic3\", \"Topic3\", \"Topic3\", \"Topic3\", \"Topic3\", \"Topic3\", \"Topic3\", \"Topic3\", \"Topic3\", \"Topic3\", \"Topic3\", \"Topic3\", \"Topic3\", \"Topic3\", \"Topic3\", \"Topic3\", \"Topic4\", \"Topic4\", \"Topic4\", \"Topic4\", \"Topic4\", \"Topic4\", \"Topic4\", \"Topic4\", \"Topic4\", \"Topic4\", \"Topic4\", \"Topic4\", \"Topic4\", \"Topic4\", \"Topic4\", \"Topic4\", \"Topic4\", \"Topic4\", \"Topic4\", \"Topic4\", \"Topic4\", \"Topic4\", \"Topic4\", \"Topic4\", \"Topic4\", \"Topic4\", \"Topic4\", \"Topic4\", \"Topic4\", \"Topic4\", \"Topic5\", \"Topic5\", \"Topic5\", \"Topic5\", \"Topic5\", \"Topic5\", \"Topic5\", \"Topic5\", \"Topic5\", \"Topic5\", \"Topic5\", \"Topic5\", \"Topic5\", \"Topic5\", \"Topic5\", \"Topic5\", \"Topic5\", \"Topic5\", \"Topic5\", \"Topic5\", \"Topic5\", \"Topic5\", \"Topic5\", \"Topic5\", \"Topic5\", \"Topic5\", \"Topic5\", \"Topic5\", \"Topic5\", \"Topic5\", \"Topic6\", \"Topic6\", \"Topic6\", \"Topic6\", \"Topic6\", \"Topic6\", \"Topic6\", \"Topic6\", \"Topic6\", \"Topic6\", \"Topic6\", \"Topic6\", \"Topic6\", \"Topic6\", \"Topic6\", \"Topic6\", \"Topic6\", \"Topic6\", \"Topic6\", \"Topic6\", \"Topic6\", \"Topic6\", \"Topic6\", \"Topic6\", \"Topic6\", \"Topic6\", \"Topic6\", \"Topic6\", \"Topic6\", \"Topic6\", \"Topic7\", \"Topic7\", \"Topic7\", \"Topic7\", \"Topic7\", \"Topic7\", \"Topic7\", \"Topic7\", \"Topic7\", \"Topic7\", \"Topic7\", \"Topic7\", \"Topic7\", \"Topic7\", \"Topic7\", \"Topic7\", \"Topic7\", \"Topic7\", \"Topic7\", \"Topic7\", \"Topic7\", \"Topic7\", \"Topic7\", \"Topic7\", \"Topic7\", \"Topic7\", \"Topic7\", \"Topic7\", \"Topic7\", \"Topic7\", \"Topic8\", \"Topic8\", \"Topic8\", \"Topic8\", \"Topic8\", \"Topic8\", \"Topic8\", \"Topic8\", \"Topic8\", \"Topic8\", \"Topic8\", \"Topic8\", \"Topic8\", \"Topic8\", \"Topic8\", \"Topic8\", \"Topic8\", \"Topic8\", \"Topic8\", \"Topic8\", \"Topic8\", \"Topic8\", \"Topic8\", \"Topic8\", \"Topic8\", \"Topic8\", \"Topic8\", \"Topic8\", \"Topic8\", \"Topic8\", \"Topic8\", \"Topic9\", \"Topic9\", \"Topic9\", \"Topic9\", \"Topic9\", \"Topic9\", \"Topic9\", \"Topic9\", \"Topic9\", \"Topic9\", \"Topic9\", \"Topic9\", \"Topic9\", \"Topic9\", \"Topic9\", \"Topic9\", \"Topic9\", \"Topic9\", \"Topic9\", \"Topic9\", \"Topic9\", \"Topic9\", \"Topic9\", \"Topic9\", \"Topic9\", \"Topic9\", \"Topic9\", \"Topic9\", \"Topic9\", \"Topic9\", \"Topic9\", \"Topic10\", \"Topic10\", \"Topic10\", \"Topic10\", \"Topic10\", \"Topic10\", \"Topic10\", \"Topic10\", \"Topic10\", \"Topic10\", \"Topic10\", \"Topic10\", \"Topic10\", \"Topic10\", \"Topic10\", \"Topic10\", \"Topic10\", \"Topic10\", \"Topic10\", \"Topic10\", \"Topic10\", \"Topic10\", \"Topic10\", \"Topic10\", \"Topic10\", \"Topic10\", \"Topic10\", \"Topic10\", \"Topic10\", \"Topic10\", \"Topic10\"], \"logprob\": [30.0, 29.0, 28.0, 27.0, 26.0, 25.0, 24.0, 23.0, 22.0, 21.0, 20.0, 19.0, 18.0, 17.0, 16.0, 15.0, 14.0, 13.0, 12.0, 11.0, 10.0, 9.0, 8.0, 7.0, 6.0, 5.0, 4.0, 3.0, 2.0, 1.0, -2.9285, -3.2055, -3.3553, -3.4508, -3.6956, -3.7905, -3.858, -4.0452, -4.0515, -4.3092, -4.4233, -4.4457, -4.4607, -4.5725, -4.5807, -4.7248, -4.7512, -4.7752, -4.7756, -4.8506, -4.8761, -4.8952, -4.9046, -4.9303, -4.9441, -4.9647, -4.971, -4.9764, -5.0119, -5.0214, -2.7059, -2.8332, -2.9443, -3.1868, -3.4177, -3.4393, -3.5704, -3.6442, -3.7504, -3.7634, -3.9845, -4.1032, -4.1158, -4.1461, -4.3389, -4.3553, -4.3953, -4.4433, -4.5318, -4.5527, -4.615, -4.6712, -4.687, -4.7364, -4.8247, -4.8864, -4.9241, -4.9481, -5.0002, -5.0105, -4.2836, -4.3137, -2.6684, -2.8224, -3.2762, -3.2896, -3.4275, -3.4968, -3.5081, -3.9613, -4.0148, -4.0351, -4.2746, -4.2962, -4.3717, -4.4221, -4.4568, -4.4581, -4.481, -4.4942, -4.5266, -4.5362, -4.5783, -4.5806, -4.5806, -4.601, -4.6413, -4.6372, -4.6514, -4.6973, -4.7062, -4.7523, -2.3555, -3.3717, -3.5794, -4.0241, -4.0352, -4.0933, -4.1395, -4.1457, -4.2447, -4.281, -4.3, -4.34, -4.3566, -4.4041, -4.4122, -4.466, -4.4733, -4.4849, -4.4943, -4.5811, -4.6022, -4.6149, -4.7129, -4.7508, -4.8445, -4.8667, -4.8681, -4.9271, -4.9337, -5.0132, -2.8164, -3.1673, -3.1873, -3.2046, -3.6582, -3.6825, -3.7164, -3.727, -3.7839, -3.8326, -3.8794, -3.9266, -3.9334, -4.0852, -4.1092, -4.1641, -4.2228, -4.2663, -4.2761, -4.4181, -4.4183, -4.4623, -4.5603, -4.5853, -4.9079, -4.9598, -4.9668, -4.9841, -5.0133, -5.0465, -1.939, -2.7071, -3.0718, -3.2858, -3.3576, -3.5137, -3.6959, -3.8925, -4.0511, -4.0738, -4.0838, -4.0962, -4.1868, -4.189, -4.1959, -4.3464, -4.3536, -4.4405, -4.4436, -4.4516, -4.5485, -4.5776, -4.6523, -4.663, -4.6858, -4.7005, -4.7417, -4.7473, -4.788, -4.8348, -2.0528, -2.6236, -2.9488, -3.2426, -3.4363, -3.4385, -3.4805, -3.7518, -3.8579, -3.9868, -4.0809, -4.1199, -4.1631, -4.413, -4.4479, -4.4558, -4.5017, -4.5131, -4.5192, -4.5258, -4.5554, -4.7387, -4.7506, -4.7573, -4.8174, -4.8345, -4.9232, -4.9251, -4.9291, -4.9807, -2.7045, -2.7328, -2.7552, -2.9819, -3.4369, -3.6592, -3.661, -3.9425, -3.9528, -4.0123, -4.0232, -4.113, -4.1753, -4.1975, -4.2065, -4.2067, -4.224, -4.224, -4.2249, -4.2273, -4.2286, -4.2595, -4.2726, -4.2998, -4.3721, -4.4293, -4.4982, -4.5294, -4.6416, -4.6518, -4.2889, -1.2197, -1.9718, -2.6871, -3.2628, -3.3921, -2.8035, -3.407, -3.8097, -3.8771, -4.1942, -4.2513, -4.3638, -4.3875, -4.5421, -4.6612, -4.6854, -5.1532, -5.2121, -5.3, -5.3237, -5.4419, -5.6876, -5.8541, -5.943, -5.994, -6.1983, -6.2104, -6.4673, -6.5612, -6.5621, -3.0295, -3.2904, -3.4815, -3.5452, -3.554, -3.6131, -3.6191, -3.6843, -3.6998, -3.9673, -4.1305, -4.1386, -4.1435, -4.1696, -4.2059, -4.2207, -4.2612, -4.3461, -4.4008, -4.4517, -4.4899, -4.4996, -4.5636, -4.6891, -4.6944, -4.7391, -4.7447, -4.7642, -4.8535, -4.8792, -4.884, -4.783], \"loglift\": [30.0, 29.0, 28.0, 27.0, 26.0, 25.0, 24.0, 23.0, 22.0, 21.0, 20.0, 19.0, 18.0, 17.0, 16.0, 15.0, 14.0, 13.0, 12.0, 11.0, 10.0, 9.0, 8.0, 7.0, 6.0, 5.0, 4.0, 3.0, 2.0, 1.0, 1.687, 1.6869, 1.6868, 1.6868, 1.6867, 1.6866, 1.6866, 1.6864, 1.6864, 1.6862, 1.686, 1.686, 1.686, 1.6858, 1.6858, 1.6856, 1.6856, 1.6855, 1.6855, 1.6854, 1.6853, 1.6853, 1.6853, 1.6852, 1.6852, 1.6852, 1.6852, 1.6851, 1.6851, 1.685, 1.6911, 1.6911, 1.6911, 1.691, 1.6909, 1.6909, 1.6908, 1.6908, 1.6907, 1.6907, 1.6905, 1.6904, 1.6904, 1.6904, 1.6902, 1.6902, 1.6901, 1.6901, 1.69, 1.6899, 1.6898, 1.6897, 1.6897, 1.6896, 1.6895, 1.6894, 1.6893, 1.6892, 1.6891, 1.6891, 1.6055, 1.5751, 2.074, 2.0739, 2.0737, 2.0737, 2.0736, 2.0736, 2.0736, 2.0731, 2.0731, 2.0731, 2.0727, 2.0727, 2.0726, 2.0725, 2.0724, 2.0724, 2.0724, 2.0723, 2.0723, 2.0723, 2.0722, 2.0722, 2.0722, 2.0721, 2.072, 2.072, 2.072, 2.0719, 2.0719, 2.0718, 2.319, 2.3185, 2.3183, 2.3177, 2.3177, 2.3176, 2.3176, 2.3175, 2.3174, 2.3173, 2.3173, 2.3172, 2.3171, 2.317, 2.317, 2.3169, 2.3169, 2.3168, 2.3168, 2.3166, 2.3165, 2.3165, 2.3162, 2.3161, 2.3158, 2.3157, 2.3157, 2.3155, 2.3155, 2.3152, 2.3714, 2.3712, 2.3712, 2.3712, 2.3708, 2.3708, 2.3707, 2.3707, 2.3706, 2.3706, 2.3705, 2.3704, 2.3704, 2.3702, 2.3701, 2.37, 2.3699, 2.3698, 2.3698, 2.3695, 2.3695, 2.3694, 2.3691, 2.3691, 2.368, 2.3678, 2.3678, 2.3677, 2.3676, 2.3674, 2.5202, 2.5199, 2.5197, 2.5195, 2.5194, 2.5193, 2.5191, 2.5188, 2.5185, 2.5184, 2.5184, 2.5184, 2.5182, 2.5182, 2.5182, 2.5178, 2.5178, 2.5176, 2.5176, 2.5176, 2.5173, 2.5172, 2.5169, 2.5169, 2.5168, 2.5168, 2.5166, 2.5166, 2.5164, 2.5162, 2.5751, 2.5749, 2.5747, 2.5744, 2.5743, 2.5742, 2.5742, 2.5738, 2.5737, 2.5734, 2.5733, 2.5732, 2.5731, 2.5724, 2.5723, 2.5723, 2.5722, 2.5721, 2.5721, 2.5721, 2.572, 2.5713, 2.5713, 2.5712, 2.571, 2.5709, 2.5705, 2.5705, 2.5705, 2.5702, 2.719, 2.719, 2.719, 2.7188, 2.7183, 2.718, 2.718, 2.7175, 2.7175, 2.7173, 2.7173, 2.7171, 2.7169, 2.7169, 2.7168, 2.7168, 2.7168, 2.7168, 2.7168, 2.7168, 2.7168, 2.7167, 2.7167, 2.7166, 2.7163, 2.7162, 2.7159, 2.7158, 2.7153, 2.7153, 2.3695, 2.9586, 2.9584, 2.958, 2.9573, 2.9571, 2.9571, 2.9571, 2.9563, 2.9561, 2.9552, 2.955, 2.9545, 2.9544, 2.9537, 2.9531, 2.9529, 2.9495, 2.9489, 2.948, 2.9478, 2.9464, 2.943, 2.9402, 2.9385, 2.9374, 2.9326, 2.9323, 2.9247, 2.9215, 2.9214, 2.7816, 3.2405, 3.2401, 3.24, 3.24, 3.2398, 3.2398, 3.2396, 3.2396, 3.2387, 3.2381, 3.2381, 3.238, 3.2379, 3.2378, 3.2377, 3.2375, 3.2371, 3.2368, 3.2365, 3.2362, 3.2362, 3.2358, 3.2349, 3.2349, 3.2345, 3.2345, 3.2343, 3.2336, 3.2333, 3.2333, 1.8754]}, \"token.table\": {\"Topic\": [3, 5, 3, 8, 8, 8, 9, 7, 4, 9, 9, 1, 9, 6, 1, 4, 1, 1, 1, 4, 3, 1, 8, 1, 9, 8, 6, 2, 4, 4, 2, 10, 4, 5, 5, 6, 10, 4, 6, 10, 10, 6, 3, 2, 1, 5, 5, 9, 10, 1, 5, 1, 8, 1, 9, 8, 9, 2, 7, 8, 9, 3, 10, 5, 6, 6, 7, 5, 7, 8, 5, 10, 4, 3, 7, 10, 2, 6, 7, 7, 2, 9, 1, 10, 5, 6, 5, 6, 10, 10, 6, 4, 8, 1, 8, 6, 1, 7, 1, 3, 7, 7, 10, 3, 9, 3, 4, 7, 7, 6, 6, 3, 1, 10, 8, 9, 6, 2, 6, 9, 10, 4, 5, 1, 9, 10, 9, 8, 6, 1, 10, 7, 5, 1, 1, 2, 3, 5, 7, 2, 2, 10, 1, 3, 9, 6, 4, 4, 1, 7, 7, 10, 7, 1, 3, 2, 3, 2, 2, 7, 7, 7, 10, 6, 9, 8, 3, 3, 8, 10, 4, 3, 6, 4, 4, 8, 9, 1, 2, 3, 5, 7, 7, 5, 8, 10, 3, 4, 8, 4, 7, 2, 9, 2, 8, 8, 3, 1, 3, 3, 10, 10, 8, 8, 9, 5, 7, 5, 3, 2, 4, 6, 8, 5, 1, 9, 9, 2, 1, 9, 9, 6, 5, 3, 8, 4, 9, 3, 6, 8, 2, 6, 2, 2, 2, 8, 5, 2, 2, 2, 10, 2, 2, 5, 5, 4, 4, 1, 9, 9, 6, 7, 2, 10, 10, 10, 2, 10, 4, 4, 10, 1, 2, 4, 6, 7, 9, 8, 4, 10, 5, 9, 3, 4, 3, 6, 2, 9, 8, 1, 7, 2, 5, 5, 6, 9, 7, 3, 4, 4, 5, 5, 7, 3, 6, 5, 10, 1, 7, 6, 8, 3, 3, 4, 5, 6, 7, 5, 7, 3, 7, 8, 2, 3, 4, 8, 5, 1, 1], \"Freq\": [0.9990865408955305, 0.9943478095880275, 0.9966647486531982, 0.9995786372353792, 0.9993283928044873, 0.9952837795954889, 0.9978182168737497, 0.9981544400734339, 0.9950355654375281, 0.9993989191490658, 0.9857229774620389, 0.9975893957287265, 0.9628870383618217, 0.9946685467339517, 0.997226791664953, 0.9987621056162523, 0.9982634116087133, 0.9992960932871201, 0.9991399251208338, 0.9965394051752166, 0.9985213775681351, 0.9995756788227996, 0.9976397809949301, 0.9982088977869867, 0.9984379010221529, 0.9956165618818319, 0.995826868258099, 0.9994193457840942, 0.9967090242846496, 0.9986892542959684, 0.9992191007781289, 0.997139573988575, 0.9982043002902363, 0.9978379888521162, 0.9982972153683514, 0.9989294086984974, 0.9978603096110379, 0.9982997275199063, 0.996099295179469, 0.994944311734075, 0.9962209211394226, 0.9996323341734339, 0.9986680779570223, 0.9992702720751608, 0.9981846275631843, 0.998833237263666, 0.997012402875189, 0.9709936122560587, 0.9930703565058892, 0.9984928033073683, 0.9980137259364597, 0.998320995567259, 0.9989979574464171, 0.9982591415341927, 0.9986715926589645, 0.9967576614235137, 0.9550000263598939, 0.9985912739114364, 0.9981550099826177, 0.9965851456880804, 0.9882168054051504, 0.9987876242315215, 0.9913780798564578, 0.9974364308685848, 0.999592651499696, 0.9973567556492753, 0.9987242094195702, 0.9989904176411487, 0.9967446034673088, 0.9969840900943275, 0.9958046884472631, 0.9959224902026377, 0.9964794008766027, 0.9989053033187202, 0.998468180882415, 0.9978487227707445, 0.9994914101605595, 0.9984107348977287, 0.9959885614071632, 0.9986871383105438, 0.999861970961537, 0.9994904584366313, 0.9996629529815528, 0.9945048011487513, 0.9983467469142847, 0.9979965559725372, 0.9979271556452167, 0.9972325862351091, 0.9956064260325876, 0.9981356404064222, 0.9992981031467717, 0.9973030211476532, 0.9988130481543885, 0.9991948370219406, 0.9980979029097051, 0.9998472945440493, 0.9986305412711224, 0.9952713220225745, 0.9990015985227039, 0.9976503262443908, 0.9971688713691544, 0.9951587260309782, 0.9895822094755945, 0.9994842524547745, 0.9920955985409624, 0.9995959864234514, 0.9977739175584682, 0.9946972488760385, 0.9941677743077304, 0.9973712733663164, 0.9990973767027131, 0.9973010726676315, 0.9988771864617163, 0.9962714729953069, 0.9987974675882234, 0.9842057082907306, 0.9988771742110834, 0.9988822492852656, 0.9985933308437819, 0.9825533762759314, 0.9882948092449871, 0.9965863017237258, 0.9978459515771934, 0.9984422613558654, 0.9961502965039052, 0.995144087846727, 0.9876173554828951, 0.9962808129171352, 0.9951070109097337, 0.9987655235877793, 0.9945096264036168, 0.9997700853809353, 0.9981757687657749, 0.9995199768533585, 0.0034499180873706647, 0.8900788665416315, 0.06094855287688174, 0.01494964504527288, 0.02989929009054576, 0.999397672007036, 0.9991356996639758, 0.9909486375603384, 0.9968613371601728, 0.9997774766912637, 0.9891756517185678, 0.9967942796192568, 0.9973454985005559, 0.9966337859587399, 0.9985276591149318, 0.9959770270647628, 0.998322377093486, 0.9981160679561961, 0.9939038908251134, 0.9977515172847412, 0.998950604815531, 0.9985821065909989, 0.9991178189215648, 0.9968060263643531, 0.9972077589054603, 0.9991310081966707, 0.9992133774906715, 0.9967282971449513, 0.9944968870494996, 0.997479582370712, 0.9964376602172529, 0.9987882155560951, 0.9983593545479954, 0.03971935764701505, 0.7050185982345171, 0.25569336485265937, 0.9986452100105613, 0.9984074529867623, 0.9974999354287007, 0.9993181267410121, 0.9986640959198889, 0.9970939651828936, 0.9998698759433465, 0.0023005881857997663, 0.9179346861341067, 0.04601176371599532, 0.01150294092899883, 0.02185558776509778, 0.9955178947633508, 0.9989341955506471, 0.9934894761527197, 0.9916265622858446, 0.9995365556981437, 0.9978134217169234, 0.9994438170198718, 0.9997140882333223, 0.9985324584864392, 0.9983575104911595, 0.9941463531628774, 0.9991166415896188, 0.996033017097702, 0.9976339534695596, 0.9990062350638881, 0.9998054129408017, 0.9989117706653963, 0.9989757195618368, 0.9975759345315438, 0.9945627774320678, 0.9955263161586128, 0.9933842720531709, 0.9858916777823731, 0.9961252523729164, 0.9958581168688967, 0.9996800800509589, 0.9977620749234254, 0.9992865687207901, 0.9971221204165402, 0.9983322815766058, 0.9972995916550546, 0.9971998547342568, 0.9986147769661871, 0.9811965636500727, 0.9943434130597261, 0.9989763127976814, 0.9986556787973818, 0.9922029743504575, 0.9980051963332388, 0.9971224248722028, 0.9937598725750142, 0.9972604696208601, 0.9978372760563952, 0.998241156252972, 0.9620044107065178, 0.9980683375005582, 0.9988072678104577, 0.9971360372001585, 0.9990786275067223, 0.9983268751420461, 0.9994714931392507, 0.9985653311121644, 0.9996912861133228, 0.9976339534695596, 0.9982344398411157, 0.998771742796443, 0.997851252737153, 0.9996903655828979, 0.9976586271572474, 0.9976328929669246, 0.9993179998483696, 0.9975925948247067, 0.9990589394931565, 0.9981286680972762, 0.994512643814295, 0.9992183370490058, 0.9941568889312691, 0.9994017204899468, 0.9984025350611294, 0.9990135188396418, 0.998562290517208, 0.9951679315801197, 0.9976227924945983, 0.9951441995698522, 0.9995249210872681, 0.9987511532090377, 0.994957919235075, 0.9963049519826693, 0.9970271638624769, 0.002127874131624137, 0.1319281961606965, 0.0010639370658120685, 0.0031918111974362055, 0.023406615447865507, 0.8373184707940979, 0.9974332660984991, 0.9981412136570768, 0.9964976408960082, 0.9994773195213246, 0.9933725435464934, 0.9991869883886468, 0.99694256035355, 0.9974871800045997, 0.9952672836001458, 0.9998284779051365, 0.9928110216021914, 0.9985496397683168, 0.9990812016572647, 0.999236182754809, 0.9994730949972291, 0.9978500156084633, 0.9990285818385594, 0.9979542201313061, 0.998777246179472, 0.9992100574167299, 0.997977843562266, 0.9984677642519646, 0.9989272615667548, 0.9992232328836459, 0.9990038170099552, 0.9977871331700556, 0.9987704140585377, 0.9960432677256361, 0.9978869967304064, 0.9941719923675286, 0.9993565277309313, 0.9977082678561553, 0.9990653790395787, 0.9973227595949954, 0.9993605446672752, 0.9979752955056446, 0.9983159564048143, 0.9983736040847143, 0.9985604635529224, 0.9978720712879446, 0.9973172545467646, 0.9955567984573005, 0.996160273307009, 0.998599999142698, 0.9961036130852926, 0.9995130189436571, 0.9995362363378442, 0.9985522003338221, 0.9980013326729955, 0.9934507805348358, 0.9983869900257074, 0.9991787264891967], \"Term\": [\"address\", \"agree\", \"airdrop\", \"amazing\", \"amp\", \"arizona\", \"ask\", \"ass\", \"average\", \"baby\", \"babydoge\", \"bad\", \"beast\", \"begin\", \"believe\", \"bet\", \"bezos\", \"big\", \"bill\", \"billionaire\", \"binance\", \"bitcoin\", \"brain\", \"bro\", \"broadcast\", \"bsc\", \"btc\", \"build\", \"burry\", \"business\", \"buy\", \"call\", \"canadian\", \"capitalist\", \"car\", \"ceo\", \"change\", \"check\", \"child\", \"china\", \"chip\", \"coin\", \"coinbase\", \"come\", \"comment\", \"company\", \"consider\", \"construct\", \"corporate\", \"crash\", \"crazy\", \"create\", \"crypto\", \"currency\", \"dance\", \"danny\", \"david\", \"day\", \"dear\", \"dedicate\", \"degree\", \"deserve\", \"dey\", \"die\", \"doge\", \"dogecoin\", \"dream\", \"drive\", \"earn\", \"egt\", \"electric\", \"elite\", \"etc\", \"exchange\", \"expect\", \"expose\", \"famous\", \"fan\", \"far\", \"find\", \"floki\", \"fly\", \"forever\", \"free\", \"fsd\", \"gain\", \"game\", \"gamestop\", \"gates\", \"genius\", \"get\", \"giant\", \"give\", \"go\", \"goat\", \"good\", \"great\", \"guess\", \"guy\", \"hack\", \"happen\", \"hate\", \"hell\", \"help\", \"hey\", \"high\", \"highlight\", \"home\", \"hope\", \"hour\", \"human\", \"huobi\", \"idea\", \"ill\", \"important\", \"industry\", \"instead\", \"internet\", \"investor\", \"invite\", \"iron\", \"jack\", \"jam\", \"jeff\", \"join\", \"joke\", \"juice\", \"kevin\", \"kind\", \"know\", \"knowledge\", \"land\", \"las\", \"laser\", \"lasereyes\", \"lasereyes\", \"lasereyes\", \"lasereyes\", \"lasereyes\", \"launch\", \"let\", \"level\", \"life\", \"like\", \"lil\", \"link\", \"listen\", \"live\", \"lol\", \"long\", \"look\", \"loop\", \"lose\", \"love\", \"low\", \"make\", \"man\", \"mar\", \"market\", \"marketcap\", \"mars\", \"mean\", \"member\", \"mention\", \"message\", \"metal\", \"metamask\", \"metaverse\", \"metaverse\", \"metaverse\", \"michael\", \"million\", \"model\", \"money\", \"month\", \"monument\", \"moon\", \"mooooooooooon\", \"mooooooooooon\", \"mooooooooooon\", \"mooooooooooon\", \"mooooooooooon\", \"move\", \"musk\", \"name\", \"nasa\", \"need\", \"neuralink\", \"new\", \"news\", \"nft\", \"old\", \"open\", \"orbit\", \"pancakeswap\", \"partnering\", \"pay\", \"people\", \"person\", \"phrase\", \"plan\", \"plane\", \"play\", \"poor\", \"pop\", \"possible\", \"post\", \"potential\", \"pratik\", \"price\", \"probably\", \"problem\", \"project\", \"proud\", \"prove\", \"qua\", \"question\", \"raise\", \"rave\", \"reach\", \"read\", \"real\", \"reality\", \"recovery\", \"renowned\", \"retweet\", \"review\", \"rich\", \"rise\", \"run\", \"rural\", \"saga\", \"satellite\", \"satellitebase\", \"say\", \"sculptor\", \"self\", \"selfdriving\", \"sell\", \"send\", \"server\", \"service\", \"share\", \"shiba\", \"short\", \"slam\", \"smart\", \"software\", \"solution\", \"song\", \"soon\", \"space\", \"spacex\", \"spread\", \"stand\", \"star\", \"starlink\", \"start\", \"state\", \"statue\", \"steal\", \"stealh\", \"stealh\", \"stealh\", \"stealh\", \"stealh\", \"stealh\", \"stone\", \"stop\", \"stuff\", \"support\", \"sure\", \"talk\", \"tax\", \"taxis\", \"technology\", \"tesla\", \"test\", \"thank\", \"thing\", \"think\", \"time\", \"token\", \"traffic\", \"trend\", \"tribute\", \"true\", \"trust\", \"tsla\", \"tunnel\", \"tweet\", \"twitter\", \"uncle\", \"vaccine\", \"value\", \"vegas\", \"vehicle\", \"video\", \"wait\", \"wallet\", \"wang\", \"want\", \"warn\", \"watch\", \"way\", \"wealth\", \"week\", \"well\", \"win\", \"winner\", \"wish\", \"word\", \"work\", \"world\", \"worry\", \"worth\", \"write\", \"wrong\", \"year\"]}, \"R\": 30, \"lambda.step\": 0.01, \"plot.opts\": {\"xlab\": \"PC1\", \"ylab\": \"PC2\"}, \"topic.order\": [9, 10, 8, 7, 3, 2, 5, 4, 1, 6]};\n",
       "\n",
       "function LDAvis_load_lib(url, callback){\n",
       "  var s = document.createElement('script');\n",
       "  s.src = url;\n",
       "  s.async = true;\n",
       "  s.onreadystatechange = s.onload = callback;\n",
       "  s.onerror = function(){console.warn(\"failed to load library \" + url);};\n",
       "  document.getElementsByTagName(\"head\")[0].appendChild(s);\n",
       "}\n",
       "\n",
       "if(typeof(LDAvis) !== \"undefined\"){\n",
       "   // already loaded: just create the visualization\n",
       "   !function(LDAvis){\n",
       "       new LDAvis(\"#\" + \"ldavis_el2089227550507594404472225837\", ldavis_el2089227550507594404472225837_data);\n",
       "   }(LDAvis);\n",
       "}else if(typeof define === \"function\" && define.amd){\n",
       "   // require.js is available: use it to load d3/LDAvis\n",
       "   require.config({paths: {d3: \"https://d3js.org/d3.v5\"}});\n",
       "   require([\"d3\"], function(d3){\n",
       "      window.d3 = d3;\n",
       "      LDAvis_load_lib(\"https://cdn.jsdelivr.net/gh/bmabey/pyLDAvis@3.3.1/pyLDAvis/js/ldavis.v3.0.0.js\", function(){\n",
       "        new LDAvis(\"#\" + \"ldavis_el2089227550507594404472225837\", ldavis_el2089227550507594404472225837_data);\n",
       "      });\n",
       "    });\n",
       "}else{\n",
       "    // require.js not available: dynamically load d3 & LDAvis\n",
       "    LDAvis_load_lib(\"https://d3js.org/d3.v5.js\", function(){\n",
       "         LDAvis_load_lib(\"https://cdn.jsdelivr.net/gh/bmabey/pyLDAvis@3.3.1/pyLDAvis/js/ldavis.v3.0.0.js\", function(){\n",
       "                 new LDAvis(\"#\" + \"ldavis_el2089227550507594404472225837\", ldavis_el2089227550507594404472225837_data);\n",
       "            })\n",
       "         });\n",
       "}\n",
       "</script>"
      ],
      "text/plain": [
       "PreparedData(topic_coordinates=              x         y  topics  cluster       Freq\n",
       "topic                                                \n",
       "8     -0.209748  0.406436       1        1  18.502541\n",
       "9      0.170458 -0.446689       2        1  18.427149\n",
       "7      0.210386  0.444966       3        1  12.564513\n",
       "6     -0.240884 -0.389376       4        1   9.834339\n",
       "2     -0.375502  0.162388       5        1   9.330223\n",
       "1      0.139590  0.224507       6        1   8.042887\n",
       "4      0.448893 -0.142086       7        1   7.612718\n",
       "3     -0.398393 -0.112796       8        1   6.590120\n",
       "0      0.295110  0.005516       9        1   5.188432\n",
       "5     -0.039909 -0.152867      10        1   3.907078, topic_info=           Term         Freq        Total Category  logprob  loglift\n",
       "177        moon  4810.000000  4810.000000  Default  30.0000  30.0000\n",
       "282        good  3632.000000  3632.000000  Default  29.0000  29.0000\n",
       "2021       land  3068.000000  3068.000000  Default  28.0000  28.0000\n",
       "118        news  2928.000000  2928.000000  Default  27.0000  27.0000\n",
       "404         fly  2268.000000  2268.000000  Default  26.0000  26.0000\n",
       "...         ...          ...          ...      ...      ...      ...\n",
       "1602      gates   104.615780   105.463361  Topic10  -4.7642   3.2343\n",
       "1160      plane    95.676519    96.524827  Topic10  -4.8535   3.2336\n",
       "2421       iron    93.253913    94.101476  Topic10  -4.8792   3.2333\n",
       "1600  corporate    92.801144    93.648954  Topic10  -4.8840   3.2333\n",
       "576   metaverse   102.666944   402.826253  Topic10  -4.7830   1.8754\n",
       "\n",
       "[335 rows x 6 columns], token_table=      Topic      Freq     Term\n",
       "term                          \n",
       "1527      3  0.999087  address\n",
       "78        5  0.994348    agree\n",
       "1365      3  0.996665  airdrop\n",
       "614       8  0.999579  amazing\n",
       "108       8  0.999328      amp\n",
       "...     ...       ...      ...\n",
       "1083      4  0.998552    worry\n",
       "635       8  0.998001    worth\n",
       "1723      5  0.993451    write\n",
       "1198      1  0.998387    wrong\n",
       "663       1  0.999179     year\n",
       "\n",
       "[319 rows x 3 columns], R=30, lambda_step=0.01, plot_opts={'xlab': 'PC1', 'ylab': 'PC2'}, topic_order=[9, 10, 8, 7, 3, 2, 5, 4, 1, 6])"
      ]
     },
     "execution_count": 216,
     "metadata": {},
     "output_type": "execute_result"
    }
   ],
   "source": [
    "import warnings\n",
    "warnings.filterwarnings(\"ignore\", category=DeprecationWarning)\n",
    "pyLDAvis.enable_notebook()\n",
    "vis = pyLDAvis.gensim_models.prepare(lda_model, corpus, id2word, mds=\"mmds\", R=30)\n",
    "vis\n"
   ]
  },
  {
   "cell_type": "code",
   "execution_count": null,
   "metadata": {},
   "outputs": [],
   "source": []
  }
 ],
 "metadata": {
  "kernelspec": {
   "display_name": "Python 3",
   "language": "python",
   "name": "python3"
  },
  "language_info": {
   "codemirror_mode": {
    "name": "ipython",
    "version": 3
   },
   "file_extension": ".py",
   "mimetype": "text/x-python",
   "name": "python",
   "nbconvert_exporter": "python",
   "pygments_lexer": "ipython3",
   "version": "3.8.5"
  }
 },
 "nbformat": 4,
 "nbformat_minor": 4
}
